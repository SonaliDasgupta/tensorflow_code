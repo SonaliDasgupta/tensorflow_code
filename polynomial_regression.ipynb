{
 "cells": [
  {
   "cell_type": "code",
   "execution_count": 1,
   "metadata": {},
   "outputs": [],
   "source": [
    "import numpy as np\n",
    "import tensorflow as tf\n",
    "import matplotlib.pyplot as plt"
   ]
  },
  {
   "cell_type": "code",
   "execution_count": 2,
   "metadata": {},
   "outputs": [
    {
     "name": "stderr",
     "output_type": "stream",
     "text": [
      "/home/sonali/anaconda/envs/tensorflow/lib/python2.7/site-packages/matplotlib/figure.py:459: UserWarning: matplotlib is currently using a non-GUI backend, so cannot show the figure\n",
      "  \"matplotlib is currently using a non-GUI backend, \"\n"
     ]
    },
    {
     "data": {
      "image/png": "[encoded data removed]",
      "text/plain": [
       "<Figure size 432x288 with 1 Axes>"
      ]
     },
     "metadata": {},
     "output_type": "display_data"
    }
   ],
   "source": [
    "plt.ion()\n",
    "n_obs=100\n",
    "fig, ax=plt.subplots(1,1)\n",
    "xs=np.linspace(-3,3,n_obs)\n",
    "ys=np.sin(xs)+np.random.uniform(-0.5,0.5,n_obs)\n",
    "ax.scatter(xs,ys)\n",
    "fig.show()\n",
    "plt.draw()"
   ]
  },
  {
   "cell_type": "code",
   "execution_count": 3,
   "metadata": {},
   "outputs": [],
   "source": [
    "X=tf.placeholder(tf.float32)\n",
    "Y=tf.placeholder(tf.float32)"
   ]
  },
  {
   "cell_type": "code",
   "execution_count": 4,
   "metadata": {},
   "outputs": [],
   "source": [
    "Y_pred=tf.Variable(tf.random_normal([1]),name='bias')\n",
    "for i in range(1,5):\n",
    "    W=tf.Variable(tf.random_normal([1]),name='weight_%d' %i)\n",
    "    Y_pred=tf.add(tf.multiply(tf.pow(X,i),W), Y_pred)\n",
    "    \n",
    "    "
   ]
  },
  {
   "cell_type": "code",
   "execution_count": 5,
   "metadata": {},
   "outputs": [],
   "source": [
    "cost=tf.reduce_sum(tf.pow(Y-Y_pred,2))/(n_obs-1)"
   ]
  },
  {
   "cell_type": "code",
   "execution_count": 6,
   "metadata": {},
   "outputs": [],
   "source": [
    "learning_rate=0.01\n",
    "optimizer=tf.train.GradientDescentOptimizer(learning_rate).minimize(cost)\n"
   ]
  },
  {
   "cell_type": "code",
   "execution_count": 8,
   "metadata": {},
   "outputs": [
    {
     "name": "stdout",
     "output_type": "stream",
     "text": [
      "331.56024\n",
      "88.42531\n",
      "23.820751\n",
      "6.92392\n",
      "2.6427794\n",
      "1.6255174\n",
      "1.4133788\n",
      "1.3781939\n",
      "1.3695664\n",
      "1.3571988\n",
      "1.3384213\n",
      "1.3154407\n",
      "1.290396\n",
      "1.264667\n",
      "1.239034\n",
      "1.2139038\n",
      "1.1894745\n",
      "1.1658285\n",
      "1.1429869\n",
      "1.120941\n",
      "1.0996656\n",
      "1.0791289\n",
      "1.0592977\n",
      "1.0401366\n",
      "1.0216118\n",
      "1.0036906\n",
      "0.98634255\n",
      "0.969538\n",
      "0.9532495\n",
      "0.9374513\n",
      "0.92211866\n",
      "0.9072284\n",
      "0.8927589\n",
      "0.87869\n",
      "0.8650014\n",
      "0.85167617\n",
      "0.8386967\n",
      "0.82604694\n",
      "0.81371254\n",
      "0.8016782\n",
      "0.7899313\n",
      "0.7784589\n",
      "0.7672492\n",
      "0.7562913\n",
      "0.7455742\n",
      "0.7350884\n",
      "0.72482437\n",
      "0.7147735\n",
      "0.70492744\n",
      "0.6952785\n",
      "0.6858191\n",
      "0.6765424\n",
      "0.667442\n",
      "0.65851146\n",
      "0.64974505\n",
      "0.6411374\n",
      "0.63268316\n",
      "0.62437767\n",
      "0.6162159\n",
      "0.6081936\n",
      "0.6003067\n",
      "0.59255123\n",
      "0.5849234\n",
      "0.57741976\n",
      "0.570037\n",
      "0.5627718\n",
      "0.5556214\n",
      "0.5485826\n",
      "0.54165316\n",
      "0.53482985\n",
      "0.52811074\n",
      "0.52149326\n",
      "0.51497525\n",
      "0.5085544\n",
      "0.50222903\n",
      "0.4959968\n",
      "0.48985603\n",
      "0.48380506\n",
      "0.47784203\n",
      "0.47196516\n",
      "0.4661731\n",
      "0.4604642\n",
      "0.4548371\n",
      "0.4492903\n",
      "0.44382277\n",
      "0.43843275\n",
      "0.43311906\n",
      "0.42788067\n",
      "0.42271638\n",
      "0.41762516\n",
      "0.41260555\n",
      "0.40765673\n",
      "0.4027773\n",
      "0.3979668\n",
      "0.39322403\n",
      "0.38854793\n",
      "0.38393745\n",
      "0.379392\n",
      "0.37491044\n",
      "0.37049195\n"
     ]
    },
    {
     "ename": "AttributeError",
     "evalue": "'module' object has no attribute 'save'",
     "output_type": "error",
     "traceback": [
      "\u001b[0;31m---------------------------------------------------------------------------\u001b[0m",
      "\u001b[0;31mAttributeError\u001b[0m                            Traceback (most recent call last)",
      "\u001b[0;32m<ipython-input-8-cb2291aad182>\u001b[0m in \u001b[0;36m<module>\u001b[0;34m()\u001b[0m\n\u001b[1;32m     18\u001b[0m \u001b[0mfig\u001b[0m\u001b[0;34m.\u001b[0m\u001b[0mshow\u001b[0m\u001b[0;34m(\u001b[0m\u001b[0;34m)\u001b[0m\u001b[0;34m\u001b[0m\u001b[0m\n\u001b[1;32m     19\u001b[0m \u001b[0mplt\u001b[0m\u001b[0;34m.\u001b[0m\u001b[0mdraw\u001b[0m\u001b[0;34m(\u001b[0m\u001b[0;34m)\u001b[0m\u001b[0;34m\u001b[0m\u001b[0m\n\u001b[0;32m---> 20\u001b[0;31m \u001b[0mplt\u001b[0m\u001b[0;34m.\u001b[0m\u001b[0msave\u001b[0m\u001b[0;34m(\u001b[0m\u001b[0;34m\"image1.jpg\"\u001b[0m\u001b[0;34m)\u001b[0m\u001b[0;34m\u001b[0m\u001b[0m\n\u001b[0m",
      "\u001b[0;31mAttributeError\u001b[0m: 'module' object has no attribute 'save'"
     ]
    },
    {
     "data": {
      "text/plain": [
       "<Figure size 432x288 with 0 Axes>"
      ]
     },
     "metadata": {},
     "output_type": "display_data"
    }
   ],
   "source": [
    "n_epochs=100\n",
    "with tf.Session() as sess:\n",
    "    sess.run(tf.global_variables_initializer())\n",
    "    prev_training_cost=0.0\n",
    "    for epoch_i in range(n_epochs):\n",
    "        for (x,y) in zip(xs,ys):\n",
    "            sess.run(optimizer, feed_dict={X: x, Y: y})\n",
    "        training_cost=sess.run(cost, feed_dict={X: xs, Y: ys})\n",
    "        print(training_cost)\n",
    "        if epoch_i%20==0:\n",
    "            ax.plot(xs, Y_pred.eval(feed_dict={X: xs}, session=sess),'k',alpha=epoch_i/n_epochs)\n",
    "            fig.show()\n",
    "            plt.draw()\n",
    "        if np.abs(prev_training_cost-training_cost)<0.001:\n",
    "            break\n",
    "        prev_training_cost=training_cost\n",
    "ax.set_ylim([-3,3])\n",
    "fig.show()\n",
    "plt.draw()\n"
   ]
  },
  {
   "cell_type": "code",
   "execution_count": 17,
   "metadata": {},
   "outputs": [],
   "source": [
    "fig.savefig(\"/home/sonali/image1.png\")"
   ]
  },
  {
   "cell_type": "code",
   "execution_count": 18,
   "metadata": {},
   "outputs": [],
   "source": [
    "import matplotlib.image as mpimg"
   ]
  },
  {
   "cell_type": "code",
   "execution_count": 19,
   "metadata": {},
   "outputs": [],
   "source": [
    "img=mpimg.imread('/home/sonali/image1.png')"
   ]
  },
  {
   "cell_type": "code",
   "execution_count": 20,
   "metadata": {},
   "outputs": [
    {
     "data": {
      "text/plain": [
       "<matplotlib.image.AxesImage at 0x7f98f2f70d10>"
      ]
     },
     "execution_count": 20,
     "metadata": {},
     "output_type": "execute_result"
    },
    {
     "data": {
      "image/png": "[encoded data removed]",
      "text/plain": [
       "<Figure size 432x288 with 1 Axes>"
      ]
     },
     "metadata": {},
     "output_type": "display_data"
    }
   ],
   "source": [
    "plt.imshow(img)"
   ]
  },
  {
   "cell_type": "code",
   "execution_count": null,
   "metadata": {},
   "outputs": [],
   "source": []
  }
 ],
 "metadata": {
  "kernelspec": {
   "display_name": "Python 2",
   "language": "python",
   "name": "python2"
  },
  "language_info": {
   "codemirror_mode": {
    "name": "ipython",
    "version": 2
   },
   "file_extension": ".py",
   "mimetype": "text/x-python",
   "name": "python",
   "nbconvert_exporter": "python",
   "pygments_lexer": "ipython2",
   "version": "2.7.14"
  }
 },
 "nbformat": 4,
 "nbformat_minor": 2
}
