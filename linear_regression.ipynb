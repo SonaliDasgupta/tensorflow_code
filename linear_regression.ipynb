{
 "cells": [
  {
   "cell_type": "code",
   "execution_count": 1,
   "metadata": {},
   "outputs": [],
   "source": [
    "import numpy as np\n",
    "import tensorflow as tf\n",
    "import matplotlib.pyplot as plt"
   ]
  },
  {
   "cell_type": "code",
   "execution_count": 2,
   "metadata": {},
   "outputs": [],
   "source": [
    "plt.ion()"
   ]
  },
  {
   "cell_type": "code",
   "execution_count": 3,
   "metadata": {},
   "outputs": [
    {
     "name": "stderr",
     "output_type": "stream",
     "text": [
      "/home/sonali/anaconda/envs/tensorflow/lib/python2.7/site-packages/matplotlib/figure.py:459: UserWarning: matplotlib is currently using a non-GUI backend, so cannot show the figure\n",
      "  \"matplotlib is currently using a non-GUI backend, \"\n"
     ]
    },
    {
     "data": {
      "image/png": "[encoded data removed]",
      "text/plain": [
       "<Figure size 432x288 with 1 Axes>"
      ]
     },
     "metadata": {},
     "output_type": "display_data"
    }
   ],
   "source": [
    "n_observations=100\n",
    "fig, ax= plt.subplots(1,1)\n",
    "xs=np.linspace(-3,3,n_observations)\n",
    "ys=np.sin(xs)+np.random.uniform(-0.5,0.5,n_observations)\n",
    "ax.scatter(xs,ys)\n",
    "fig.show()\n",
    "plt.draw()"
   ]
  },
  {
   "cell_type": "code",
   "execution_count": 4,
   "metadata": {},
   "outputs": [],
   "source": [
    "X=tf.placeholder(tf.float32)\n",
    "Y=tf.placeholder(tf.float32)\n"
   ]
  },
  {
   "cell_type": "code",
   "execution_count": 5,
   "metadata": {},
   "outputs": [],
   "source": [
    "W=tf.Variable(tf.random_normal([1]),name='weight')\n",
    "B=tf.Variable(tf.random_normal([1]),name='bias')\n",
    "Y_pred=tf.add(tf.multiply(X,W),B)"
   ]
  },
  {
   "cell_type": "code",
   "execution_count": 6,
   "metadata": {},
   "outputs": [],
   "source": [
    "cost=tf.reduce_sum(tf.pow(Y_pred-Y,2))/(n_observations-1)"
   ]
  },
  {
   "cell_type": "code",
   "execution_count": 7,
   "metadata": {},
   "outputs": [],
   "source": [
    "learning_rate=0.01\n",
    "optimizer=tf.train.GradientDescentOptimizer(learning_rate).minimize(cost)\n"
   ]
  },
  {
   "cell_type": "code",
   "execution_count": 8,
   "metadata": {},
   "outputs": [
    {
     "name": "stdout",
     "output_type": "stream",
     "text": [
      "1.6500361\n",
      "1.5039973\n",
      "1.3744138\n",
      "1.2593927\n",
      "1.1572601\n",
      "1.0665371\n",
      "0.9859151\n",
      "0.9142376\n",
      "0.85048133\n",
      "0.79374176\n",
      "0.74321884\n",
      "0.69820505\n",
      "0.658074\n",
      "0.6222723\n",
      "0.5903099\n",
      "0.56175345\n",
      "0.5362193\n",
      "0.51336795\n",
      "0.49289897\n",
      "0.4745464\n",
      "0.45807454\n",
      "0.44327497\n",
      "0.42996317\n",
      "0.41797525\n",
      "0.40716642\n",
      "0.39740822\n",
      "0.38858676\n",
      "0.38060102\n",
      "0.37336162\n",
      "0.3667888\n",
      "0.36081237\n",
      "0.35536975\n",
      "0.3504052\n",
      "0.3458694\n",
      "0.34171858\n",
      "0.33791363\n",
      "0.33441982\n",
      "0.33120623\n",
      "0.32824534\n",
      "0.3255127\n",
      "0.32298648\n",
      "0.32064712\n",
      "0.31847715\n",
      "0.31646103\n",
      "0.31458476\n",
      "0.31283596\n",
      "0.31120348\n",
      "0.30967724\n",
      "0.3082483\n",
      "0.30690855\n",
      "0.3056507\n",
      "0.3044683\n",
      "0.30335534\n",
      "0.3023065\n",
      "0.30131698\n"
     ]
    },
    {
     "data": {
      "text/plain": [
       "<Figure size 432x288 with 0 Axes>"
      ]
     },
     "metadata": {},
     "output_type": "display_data"
    }
   ],
   "source": [
    "n_epochs=100\n",
    "with tf.Session() as sess:\n",
    "    sess.run(tf.global_variables_initializer())\n",
    "    prev_training_cost=0.0\n",
    "    for epochi in range(n_epochs):\n",
    "        for (x,y) in zip(xs,ys):\n",
    "            sess.run(optimizer, feed_dict={X: x, Y: y})\n",
    "        training_cost=sess.run(cost, feed_dict={X: xs, Y: ys})\n",
    "        print(training_cost)\n",
    "        if epochi%20==0:\n",
    "            ax.plot(xs,Y_pred.eval(feed_dict={X: xs},session=sess), 'k', alpha=epochi/n_epochs)\n",
    "            fig.show()\n",
    "            plt.draw()\n",
    "                \n",
    "        if np.abs(training_cost-prev_training_cost)<0.001:\n",
    "            break\n",
    "        prev_training_cost=training_cost\n",
    "fig.show()\n",
    "plt.draw()\n",
    "            "
   ]
  },
  {
   "cell_type": "code",
   "execution_count": 9,
   "metadata": {},
   "outputs": [
    {
     "data": {
      "text/plain": [
       "<Figure size 432x288 with 0 Axes>"
      ]
     },
     "metadata": {},
     "output_type": "display_data"
    }
   ],
   "source": [
    "fig.show()\n",
    "plt.draw()"
   ]
  },
  {
   "cell_type": "code",
   "execution_count": 10,
   "metadata": {},
   "outputs": [
    {
     "data": {
      "text/plain": [
       "<matplotlib.image.AxesImage at 0x7fe09ba8be90>"
      ]
     },
     "execution_count": 10,
     "metadata": {},
     "output_type": "execute_result"
    },
    {
     "data": {
      "image/png": "[encoded data removed]",
      "text/plain": [
       "<Figure size 432x288 with 1 Axes>"
      ]
     },
     "metadata": {},
     "output_type": "display_data"
    }
   ],
   "source": [
    "fig.savefig('/home/sonali/img2.png')\n",
    "import matplotlib.image as imgmp\n",
    "img1=imgmp.imread('/home/sonali/img2.png')\n",
    "plt.imshow(img1)"
   ]
  },
  {
   "cell_type": "code",
   "execution_count": null,
   "metadata": {},
   "outputs": [],
   "source": []
  }
 ],
 "metadata": {
  "kernelspec": {
   "display_name": "Python 2",
   "language": "python",
   "name": "python2"
  },
  "language_info": {
   "codemirror_mode": {
    "name": "ipython",
    "version": 2
   },
   "file_extension": ".py",
   "mimetype": "text/x-python",
   "name": "python",
   "nbconvert_exporter": "python",
   "pygments_lexer": "ipython2",
   "version": "2.7.14"
  }
 },
 "nbformat": 4,
 "nbformat_minor": 2
}
